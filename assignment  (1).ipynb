{
 "cells": [
  {
   "cell_type": "code",
   "execution_count": 1,
   "id": "c0c07926-a892-43b6-9fbe-f957b237969f",
   "metadata": {},
   "outputs": [
    {
     "name": "stdout",
     "output_type": "stream",
     "text": [
      "\n",
      "ANSWER1 An exception in Python is an incident that happens while executing a program that causes the regular course of the program's commands to be disrupted. When a Python code comes across a condition it can't handle, it raises an exception. An object in Python that describes an error is called an exception.\n",
      "\n",
      "THE DIFFERENCE BETWEEN ERROR AND EXCEPTION ARE AS FOLLOWING\n",
      "Errors are the problems in a program due to which the program will stop the execution. On the other hand, exceptions are raised when some internal events occur which changes the normal flow of the program. \n",
      "SYNTAX ERROR =When the proper syntax of the language is not followed then a syntax error is thrown. it is a language error\n",
      "EXCEPTION = When in the runtime an error that occurs after passing the syntax test is called exception or logical type.it is a logical error For example, when we divide any number by zero then the ZeroDivisionError exception is raised, or when we import a module that does not exist then ImportError is raised.\n",
      "\n",
      "\n"
     ]
    }
   ],
   "source": [
    "print(\"\"\"\n",
    "ANSWER1 An exception in Python is an incident that happens while executing a program that causes the regular course of the program's commands to be disrupted. When a Python code comes across a condition it can't handle, it raises an exception. An object in Python that describes an error is called an exception.\n",
    "\n",
    "THE DIFFERENCE BETWEEN ERROR AND EXCEPTION ARE AS FOLLOWING\n",
    "Errors are the problems in a program due to which the program will stop the execution. On the other hand, exceptions are raised when some internal events occur which changes the normal flow of the program. \n",
    "SYNTAX ERROR =When the proper syntax of the language is not followed then a syntax error is thrown. it is a language error\n",
    "EXCEPTION = When in the runtime an error that occurs after passing the syntax test is called exception or logical type.it is a logical error For example, when we divide any number by zero then the ZeroDivisionError exception is raised, or when we import a module that does not exist then ImportError is raised.\n",
    "\n",
    "\"\"\")"
   ]
  },
  {
   "cell_type": "code",
   "execution_count": 2,
   "id": "30b0145c-3014-46b6-863f-ea9c486e8669",
   "metadata": {},
   "outputs": [
    {
     "name": "stdout",
     "output_type": "stream",
     "text": [
      "\n",
      "ANSWER2 =If an exception is not caught (with a catch block), the runtime system will abort the program (i.e. crash) and an exception message will print to the console.\n",
      "that means when the exception is not handeled in a program then if a error occured in program the program will stop at that line and not able to execute at next lines\n"
     ]
    }
   ],
   "source": [
    "print (\"\"\"\n",
    "ANSWER2 =If an exception is not caught (with a catch block), the runtime system will abort the program (i.e. crash) and an exception message will print to the console.\n",
    "that means when the exception is not handeled in a program then if a error occured in program the program will stop at that line and not able to execute at next lines\"\"\")"
   ]
  },
  {
   "cell_type": "code",
   "execution_count": null,
   "id": "dfe3f4fb-1b71-4927-817c-6648eddece2b",
   "metadata": {},
   "outputs": [],
   "source": []
  },
  {
   "cell_type": "code",
   "execution_count": 3,
   "id": "b4f35a8a-c314-4e74-8d42-0972b0e29f05",
   "metadata": {},
   "outputs": [
    {
     "name": "stdout",
     "output_type": "stream",
     "text": [
      "example when exception is not handeled\n"
     ]
    },
    {
     "ename": "UnsupportedOperation",
     "evalue": "not writable",
     "output_type": "error",
     "traceback": [
      "\u001b[0;31m---------------------------------------------------------------------------\u001b[0m",
      "\u001b[0;31mUnsupportedOperation\u001b[0m                      Traceback (most recent call last)",
      "Cell \u001b[0;32mIn[3], line 3\u001b[0m\n\u001b[1;32m      1\u001b[0m \u001b[38;5;28mprint\u001b[39m(\u001b[38;5;124m\"\u001b[39m\u001b[38;5;124mexample when exception is not handeled\u001b[39m\u001b[38;5;124m\"\u001b[39m)\n\u001b[1;32m      2\u001b[0m f \u001b[38;5;241m=\u001b[39m \u001b[38;5;28mopen\u001b[39m (\u001b[38;5;124m\"\u001b[39m\u001b[38;5;124mtest12.txt\u001b[39m\u001b[38;5;124m\"\u001b[39m , \u001b[38;5;124m'\u001b[39m\u001b[38;5;124mr\u001b[39m\u001b[38;5;124m'\u001b[39m)\n\u001b[0;32m----> 3\u001b[0m \u001b[43mf\u001b[49m\u001b[38;5;241;43m.\u001b[39;49m\u001b[43mwrite\u001b[49m\u001b[43m(\u001b[49m\u001b[38;5;124;43m\"\u001b[39;49m\u001b[38;5;124;43mwrite into my file\u001b[39;49m\u001b[38;5;124;43m\"\u001b[39;49m\u001b[43m)\u001b[49m\n\u001b[1;32m      4\u001b[0m f\u001b[38;5;241m.\u001b[39mclose\n",
      "\u001b[0;31mUnsupportedOperation\u001b[0m: not writable"
     ]
    }
   ],
   "source": [
    "print(\"example when exception is not handeled\")\n",
    "f = open (\"test12.txt\" , 'r')\n",
    "f.write(\"write into my file\")\n",
    "f.close\n"
   ]
  },
  {
   "cell_type": "code",
   "execution_count": 4,
   "id": "3ec3e6a5-31d4-443b-b6b4-86e0d5e39469",
   "metadata": {},
   "outputs": [
    {
     "name": "stdout",
     "output_type": "stream",
     "text": [
      "\n",
      "ANSWER3) in phyton try is used to catch the exception and except is used for handel the exceptions \n",
      "the examples are as following\n",
      "i am trying to handle file not found error [Errno 2] No such file or directory: 'test11.txt'\n"
     ]
    }
   ],
   "source": [
    "print (\"\"\"\n",
    "ANSWER3) in phyton try is used to catch the exception and except is used for handel the exceptions \n",
    "the examples are as following\"\"\")\n",
    "\n",
    "try :\n",
    "    f = open(\"test11.txt\" ,'r')\n",
    "except FileNotFoundError as e :\n",
    "    print (\"i am trying to handle file not found error\" , e)"
   ]
  },
  {
   "cell_type": "code",
   "execution_count": 5,
   "id": "30b7c6b1-9f5d-4b6f-adad-7727ccde48ec",
   "metadata": {},
   "outputs": [
    {
     "name": "stdout",
     "output_type": "stream",
     "text": [
      "ANSWER 4(a) try and else example\n",
      "this execute only if try execute without any error\n"
     ]
    }
   ],
   "source": [
    "print(\"ANSWER 4(a) try and else example\")\n",
    "try:\n",
    "    f = open (\"test12.txt\" ,'w')\n",
    "    f.write(\"this is my file \")\n",
    "except FileNotFoundError as e:\n",
    "    print(\"i am trying to handle file not found error\",e)\n",
    "else:\n",
    "    f.close\n",
    "    print (\"this execute only if try execute without any error\")"
   ]
  },
  {
   "cell_type": "code",
   "execution_count": 6,
   "id": "12abcd74-278c-4992-ad9e-113b25a81183",
   "metadata": {},
   "outputs": [
    {
     "name": "stdout",
     "output_type": "stream",
     "text": [
      "ANSWER4(b) finally example\n",
      "i am trying to handle Typeerror unsupported operand type(s) for +: 'int' and 'str'\n",
      "finally will execute in every situation\n"
     ]
    }
   ],
   "source": [
    "print(\"ANSWER4(b) finally example\")\n",
    "try:\n",
    "    123 + \"sudh\"\n",
    "except TypeError as e:\n",
    "    print (\"i am trying to handle Typeerror\", e)\n",
    "finally :\n",
    "    print(\"finally will execute in every situation\")"
   ]
  },
  {
   "cell_type": "code",
   "execution_count": 8,
   "id": "9065e4ed-e52f-4f29-a9ea-66aac990e26f",
   "metadata": {},
   "outputs": [
    {
     "name": "stdout",
     "output_type": "stream",
     "text": [
      "ANSWER 4(c) raise example\n"
     ]
    },
    {
     "name": "stdin",
     "output_type": "stream",
     "text": [
      "enter your roll number -8\n"
     ]
    },
    {
     "name": "stdout",
     "output_type": "stream",
     "text": [
      "the roll number cant exists  \n"
     ]
    }
   ],
   "source": [
    "print (\"ANSWER 4(c) raise example\")\n",
    "try :\n",
    "    roll_no = int(input(\"enter your roll number\"))\n",
    "    if roll_no <=0:\n",
    "        raise ValueError\n",
    "except ValueError as e:\n",
    "    print (\"the roll number cant exists \" , e)"
   ]
  },
  {
   "cell_type": "code",
   "execution_count": 9,
   "id": "feba2271-b0a6-4970-85e9-4916127f6de3",
   "metadata": {},
   "outputs": [
    {
     "name": "stdout",
     "output_type": "stream",
     "text": [
      "ANSWER 5) CUSTOM EXCEPTION IN PYTHON \n",
      "DEFINITION:Custom or User-defined Exceptions are designed as per the requirement of the program. Using custom Exception we can have our own Exception and a meaningful message explaining the cause of the exception.\n",
      "NEED OF CUSTOM EXCEPTION: some logical errors can not be handle by the built in exceptions ,the logic may be differ from program to program ,so for these kind of logical error we need custom exception \n"
     ]
    }
   ],
   "source": [
    "print (\"\"\"ANSWER 5) CUSTOM EXCEPTION IN PYTHON \n",
    "DEFINITION:Custom or User-defined Exceptions are designed as per the requirement of the program. Using custom Exception we can have our own Exception and a meaningful message explaining the cause of the exception.\n",
    "NEED OF CUSTOM EXCEPTION: some logical errors can not be handle by the built in exceptions ,the logic may be differ from program to program ,so for these kind of logical error we need custom exception \"\"\")\n"
   ]
  },
  {
   "cell_type": "code",
   "execution_count": 10,
   "id": "1f882a94-0a64-4546-bf31-8d140a83dac5",
   "metadata": {},
   "outputs": [
    {
     "name": "stdout",
     "output_type": "stream",
     "text": [
      "example of custom exception\n"
     ]
    }
   ],
   "source": [
    "print(\"example of custom exception\")\n",
    "class validateage(Exception):\n",
    "    def __init__(self,msg):\n",
    "        self.msg = msg"
   ]
  },
  {
   "cell_type": "code",
   "execution_count": 11,
   "id": "8d5e3eb5-306d-4df9-a1c6-81ad3e8f6979",
   "metadata": {},
   "outputs": [],
   "source": [
    "def validateage (age):\n",
    "    if age < 0:\n",
    "        raise validateage (\"entered age is negative \")\n",
    "    elif age > 200:\n",
    "        raise validateage (\"entered age is very high \")\n",
    "    else :\n",
    "        print (\"age is valid\")"
   ]
  },
  {
   "cell_type": "code",
   "execution_count": 13,
   "id": "fa323617-9d64-4345-8adb-5d7c010f67b4",
   "metadata": {},
   "outputs": [
    {
     "name": "stdin",
     "output_type": "stream",
     "text": [
      "enter your age  66\n"
     ]
    },
    {
     "name": "stdout",
     "output_type": "stream",
     "text": [
      "age is valid\n"
     ]
    }
   ],
   "source": [
    "try :\n",
    "    age = int(input(\"enter your age \"))\n",
    "    validateage(age)\n",
    "except validateage as e:\n",
    "    print(e)"
   ]
  },
  {
   "cell_type": "code",
   "execution_count": 23,
   "id": "58fa5458-f8bd-44c7-b45a-f1451ea96bfe",
   "metadata": {},
   "outputs": [
    {
     "name": "stdout",
     "output_type": "stream",
     "text": [
      "custom exception class example\n"
     ]
    }
   ],
   "source": [
    "print(\"custom exception class example\")"
   ]
  },
  {
   "cell_type": "code",
   "execution_count": 25,
   "id": "0fc52b51-c43b-478f-83e7-2a77fbe03340",
   "metadata": {},
   "outputs": [
    {
     "name": "stdin",
     "output_type": "stream",
     "text": [
      "Enter a number:  0\n"
     ]
    },
    {
     "name": "stdout",
     "output_type": "stream",
     "text": [
      "Input value is zero, try again!\n",
      "\n"
     ]
    }
   ],
   "source": [
    "class Error(Exception):\n",
    "   \"\"\"Base class for other exceptions\"\"\"\n",
    "   pass\n",
    "class Dividebyzero(Error):\n",
    "   \"\"\"Raised when the input value is zero\"\"\"\n",
    "   pass\n",
    "try:\n",
    "   i_num = int(input(\"Enter a number: \"))\n",
    "   if i_num ==0:\n",
    "      raise Dividebyzero\n",
    "except Dividebyzero:\n",
    "   print(\"Input value is zero, try again!\")\n",
    "   print()"
   ]
  },
  {
   "cell_type": "code",
   "execution_count": null,
   "id": "83ea1b8b-9374-4df1-9884-0a6b05ed558d",
   "metadata": {},
   "outputs": [],
   "source": []
  }
 ],
 "metadata": {
  "kernelspec": {
   "display_name": "Python 3 (ipykernel)",
   "language": "python",
   "name": "python3"
  },
  "language_info": {
   "codemirror_mode": {
    "name": "ipython",
    "version": 3
   },
   "file_extension": ".py",
   "mimetype": "text/x-python",
   "name": "python",
   "nbconvert_exporter": "python",
   "pygments_lexer": "ipython3",
   "version": "3.10.8"
  }
 },
 "nbformat": 4,
 "nbformat_minor": 5
}
